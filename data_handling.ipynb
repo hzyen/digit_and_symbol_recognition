{
 "cells": [
  {
   "cell_type": "code",
   "execution_count": 1,
   "metadata": {},
   "outputs": [],
   "source": [
    "import pandas as pd\n",
    "import numpy as np\n",
    "import cv2\n",
    "import os\n",
    "from PIL import Image, ImageOps\n",
    "import ntpath"
   ]
  },
  {
   "cell_type": "code",
   "execution_count": 47,
   "metadata": {},
   "outputs": [],
   "source": [
    "# 10 .\n",
    "# 11 +\n",
    "# 12 -\n",
    "# 13 *\n",
    "# 14 /\n",
    "# 15 ="
   ]
  },
  {
   "cell_type": "code",
   "execution_count": 2,
   "metadata": {},
   "outputs": [],
   "source": [
    "def convert_images_to_png(folder, output_dir):\n",
    "    print('Folder: ' + folder)\n",
    "    images = []\n",
    "    for filename in os.listdir(folder):\n",
    "        img = cv2.imread(os.path.join(folder,filename))\n",
    "        if img is not None:\n",
    "            print(filename)\n",
    "            images.append(img)\n",
    "\n",
    "        os.makedirs(output_dir, exist_ok=True)\n",
    "        cv2.imwrite(os.path.join(output_dir, os.path.splitext(filename)[0] + '.png'), img)\n",
    "    \n",
    "    print(f'Total images converted: {len(images)}')\n",
    "    print('Finished')\n",
    "    print('================================================================================')"
   ]
  },
  {
   "cell_type": "code",
   "execution_count": 3,
   "metadata": {},
   "outputs": [
    {
     "name": "stdout",
     "output_type": "stream",
     "text": [
      "Folder: ./raw_data/jpg\n",
      "IMG_3033.jpg\n",
      "IMG_3034.jpg\n",
      "IMG_3035.jpg\n",
      "Total images converted: 3\n",
      "Finished\n",
      "================================================================================\n",
      "finished\n"
     ]
    }
   ],
   "source": [
    "convert_images_to_png('./raw_data/jpg', './raw_data/png')\n",
    "print('finished')"
   ]
  },
  {
   "cell_type": "code",
   "execution_count": 4,
   "metadata": {},
   "outputs": [],
   "source": [
    "def tranfer_folders():\n",
    "    target_file_dir = './dataset'\n",
    "    os.makedirs(target_file_dir, exist_ok = True)\n",
    "    target_eval_dir = 'eval'\n",
    "    target_train_dir = 'train'\n",
    "    target_eval_dir = os.path.join(target_file_dir, target_eval_dir)\n",
    "    target_train_dir = os.path.join(target_file_dir, target_train_dir)\n",
    "    os.makedirs(target_eval_dir, exist_ok = True)\n",
    "    os.makedirs(target_train_dir, exist_ok = True)\n",
    "\n",
    "    eval_dir = './archive/eval'\n",
    "    train_dir = './archive/train'\n",
    "    #train Folder\n",
    "    for folder in os.listdir(train_dir):\n",
    "        convert_images_to_png(os.path.join(train_dir, folder), os.path.join(target_train_dir, folder))\n",
    "    #eval Folder\n",
    "    for folder in os.listdir(eval_dir):\n",
    "        convert_images_to_png(os.path.join(eval_dir, folder), os.path.join(target_eval_dir, folder))"
   ]
  },
  {
   "cell_type": "code",
   "execution_count": 5,
   "metadata": {},
   "outputs": [],
   "source": [
    "def rescale_images_to_1d_array(img, model_image_width, model_image_height, flatten = False):\n",
    "    img = cv2.cvtColor(img, cv2.COLOR_BGR2GRAY)\n",
    "    model_image_size = (model_image_height, model_image_width)  # (height, width)\n",
    "    mat = Image.fromarray(img) # covert image from numpy array to pillow\n",
    "    img_width, img_height = mat.size\n",
    "    mat = ImageOps.scale(mat, float(min(float(model_image_height / img_height), float(model_image_width / img_width))))\n",
    "    mat = ImageOps.pad(mat, model_image_size)\n",
    "    rescale_img = np.array(mat)\n",
    "    if flatten == True:\n",
    "        return rescale_img.flatten()\n",
    "    else:\n",
    "        return rescale_img"
   ]
  },
  {
   "cell_type": "code",
   "execution_count": 6,
   "metadata": {},
   "outputs": [],
   "source": [
    "def img_to_pdDataFrame(img, value):\n",
    "    rescaled_image = rescale_images_to_1d_array(img, 28, 28, flatten = True)\n",
    "    rescaled_image = np.insert(rescaled_image, 0, value)\n",
    "    df = pd.DataFrame(np.array([rescaled_image]))\n",
    "    return df"
   ]
  },
  {
   "cell_type": "code",
   "execution_count": 7,
   "metadata": {},
   "outputs": [],
   "source": [
    "def merge_to_one_dataFrame(input_dir, value):\n",
    "    df = pd.DataFrame()\n",
    "    foldername = ntpath.basename(input_dir)\n",
    "    print('Foldername: ' + foldername)\n",
    "    total = len(os.listdir(input_dir))\n",
    "    print(f\"Totel files: {total}\")\n",
    "    for file in os.listdir(input_dir):\n",
    "        img = cv2.imread(os.path.join(input_dir,file))\n",
    "        if img is None:\n",
    "            print('Filename: ' + filename + ' is none.')\n",
    "            continue\n",
    "        df_1 = img_to_pdDataFrame(img, value)\n",
    "        df = df.append(df_1,ignore_index=True)\n",
    "    print('================================================================================')\n",
    "    return df"
   ]
  },
  {
   "cell_type": "code",
   "execution_count": 8,
   "metadata": {},
   "outputs": [],
   "source": [
    "def merge_all_imgs(input_dir):\n",
    "    df = pd.DataFrame()\n",
    "    count = 0\n",
    "    for file in os.listdir(input_dir):\n",
    "        value = -1\n",
    "        if file == 'decimal':\n",
    "            value = 10\n",
    "            continue\n",
    "        elif file == 'plus':\n",
    "            value = 11\n",
    "            continue\n",
    "        elif file == 'minus':\n",
    "            value = 12\n",
    "            continue\n",
    "        elif file == 'times':\n",
    "            value = 13\n",
    "            continue\n",
    "        elif file == 'div':\n",
    "            value = 14\n",
    "            continue\n",
    "        elif file == 'equal':\n",
    "            value = 15\n",
    "            continue\n",
    "        elif file == 'original number' or file == 'original sign' or file == 'other number' or file == 'other sign' :\n",
    "            continue\n",
    "        else:\n",
    "            value = file\n",
    "        print('Filename: ' + file)\n",
    "        df_1 = merge_to_one_dataFrame(os.path.join(input_dir, file), value)\n",
    "        df = df.append(df_1, ignore_index=True)\n",
    "    print('Finished')\n",
    "    return df"
   ]
  },
  {
   "cell_type": "code",
   "execution_count": 54,
   "metadata": {},
   "outputs": [
    {
     "name": "stdout",
     "output_type": "stream",
     "text": [
      "Filename: 0\n",
      "Foldername: 0\n",
      "Totel files: 426\n",
      "================================================================================\n",
      "Filename: 1\n",
      "Foldername: 1\n",
      "Totel files: 432\n",
      "================================================================================\n",
      "Filename: 2\n",
      "Foldername: 2\n",
      "Totel files: 430\n",
      "================================================================================\n",
      "Filename: 3\n",
      "Foldername: 3\n",
      "Totel files: 429\n",
      "================================================================================\n",
      "Filename: 4\n",
      "Foldername: 4\n",
      "Totel files: 431\n",
      "================================================================================\n",
      "Filename: 5\n",
      "Foldername: 5\n",
      "Totel files: 431\n",
      "================================================================================\n",
      "Filename: 6\n",
      "Foldername: 6\n",
      "Totel files: 429\n",
      "================================================================================\n",
      "Filename: 7\n",
      "Foldername: 7\n",
      "Totel files: 430\n",
      "================================================================================\n",
      "Filename: 8\n",
      "Foldername: 8\n",
      "Totel files: 429\n",
      "================================================================================\n",
      "Filename: 9\n",
      "Foldername: 9\n",
      "Totel files: 430\n",
      "================================================================================\n",
      "Finished\n",
      "Filename: 0\n",
      "Foldername: 0\n",
      "Totel files: 52\n",
      "================================================================================\n",
      "Filename: 1\n",
      "Foldername: 1\n",
      "Totel files: 55\n",
      "================================================================================\n",
      "Filename: 2\n",
      "Foldername: 2\n",
      "Totel files: 54\n",
      "================================================================================\n",
      "Filename: 3\n",
      "Foldername: 3\n",
      "Totel files: 54\n",
      "================================================================================\n",
      "Filename: 4\n",
      "Foldername: 4\n",
      "Totel files: 54\n",
      "================================================================================\n",
      "Filename: 5\n",
      "Foldername: 5\n",
      "Totel files: 54\n",
      "================================================================================\n",
      "Filename: 6\n",
      "Foldername: 6\n",
      "Totel files: 53\n",
      "================================================================================\n",
      "Filename: 7\n",
      "Foldername: 7\n",
      "Totel files: 54\n",
      "================================================================================\n",
      "Filename: 8\n",
      "Foldername: 8\n",
      "Totel files: 54\n",
      "================================================================================\n",
      "Filename: 9\n",
      "Foldername: 9\n",
      "Totel files: 54\n",
      "================================================================================\n",
      "Finished\n"
     ]
    }
   ],
   "source": [
    "#Run train\n",
    "input_dir = './dataset/train'\n",
    "train_df = merge_all_imgs(input_dir)\n",
    "#Run eval\n",
    "input_dir = './dataset/eval'\n",
    "eval_df = merge_all_imgs(input_dir)\n",
    "#save\n",
    "train_df.to_csv('./train_without_symbol.csv',index=False)\n",
    "eval_df.to_csv('./eval_without_symbol.csv',index=False)"
   ]
  },
  {
   "cell_type": "code",
   "execution_count": 10,
   "metadata": {
    "scrolled": true
   },
   "outputs": [
    {
     "name": "stdout",
     "output_type": "stream",
     "text": [
      "Filename: 2\n",
      "Foldername: 2\n",
      "Totel files: 1\n",
      "================================================================================\n",
      "Filename: 3\n",
      "Foldername: 3\n",
      "Totel files: 1\n",
      "================================================================================\n",
      "Filename: 4\n",
      "Foldername: 4\n",
      "Totel files: 1\n",
      "================================================================================\n",
      "Finished\n"
     ]
    }
   ],
   "source": [
    "#Run eval\n",
    "input_dir = './raw_data/png'\n",
    "eval_df = merge_all_imgs(input_dir)\n",
    "#save\n",
    "eval_df.to_csv('./raw_data_eval.csv',index=False)"
   ]
  },
  {
   "cell_type": "code",
   "execution_count": null,
   "metadata": {},
   "outputs": [],
   "source": []
  }
 ],
 "metadata": {
  "kernelspec": {
   "display_name": "Python 3",
   "language": "python",
   "name": "python3"
  },
  "language_info": {
   "codemirror_mode": {
    "name": "ipython",
    "version": 3
   },
   "file_extension": ".py",
   "mimetype": "text/x-python",
   "name": "python",
   "nbconvert_exporter": "python",
   "pygments_lexer": "ipython3",
   "version": "3.7.6"
  }
 },
 "nbformat": 4,
 "nbformat_minor": 4
}
